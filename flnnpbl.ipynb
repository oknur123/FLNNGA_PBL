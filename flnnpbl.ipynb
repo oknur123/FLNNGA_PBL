{
 "cells": [
  {
   "cell_type": "code",
   "execution_count": 4,
   "id": "8f52874f",
   "metadata": {},
   "outputs": [],
   "source": [
    "import random \n",
    "import math \n",
    "# Function to calculate the total distance of a route \n",
    "def calculate_total_distance(route, distances): \n",
    "    total_distance = 0 \n",
    "    num_cities = len(route) \n",
    "    for i in range(num_cities - 1): \n",
    "        total_distance += distances[route[i]][route[i + 1]] \n",
    "    total_distance += distances[route[num_cities - 1]][route[0]] # Return to the starting city \n",
    "    return total_distance"
   ]
  },
  {
   "cell_type": "code",
   "execution_count": 5,
   "id": "2dbe6445",
   "metadata": {},
   "outputs": [],
   "source": [
    "# Function to create an initial population of routes \n",
    "def create_initial_population(num_individuals, num_cities): \n",
    "    population = [] \n",
    "    for _ in range(num_individuals): \n",
    "        route = list(range(num_cities))\n",
    "        random.shuffle(route) import random \n",
    "import math \n",
    "# Function to calculate the total distance of a route \n",
    "def calculate_total_distance(route, distances): \n",
    "    total_distance = 0 \n",
    "    num_cities = len(route) \n",
    "    for i in range(num_cities - 1): \n",
    "        total_distance += distances[route[i]][route[i + 1]] \n",
    "    total_distance += distances[route[num_cities - 1]][route[0]] # Return to the starting city \n",
    "    return total_distance\n",
    "        population.append(route) \n",
    "    return population"
   ]
  },
  {
   "cell_type": "code",
   "execution_count": 6,
   "id": "cc15cb77",
   "metadata": {},
   "outputs": [],
   "source": [
    "# Function to perform crossover to create offspring routes \n",
    "def crossover(parent1, parent2): \n",
    "    start = random.randint(0, len(parent1) - 1) \n",
    "    end = random.randint(start, len(parent1) - 1) \n",
    "    child = [-1] * len(parent1) \n",
    "    for i in range(start, end + 1): \n",
    "        child[i] = parent1[i] \n",
    "    remaining_cities = [city for city in parent2 if city not in child] \n",
    "    remaining_index = 0 \n",
    "    for i in range(len(child)): \n",
    "        if child[i] == -1: \n",
    "            child[i] = remaining_cities[remaining_index] \n",
    "            remaining_index += 1 \n",
    "    return child"
   ]
  },
  {
   "cell_type": "code",
   "execution_count": 7,
   "id": "f553bbb5",
   "metadata": {},
   "outputs": [],
   "source": [
    "# Function to perform mutation on a route \n",
    "def mutate(route): \n",
    "    index1 = random.randint(0, len(route) - 1) \n",
    "    index2 = random.randint(0, len(route) - 1) \n",
    "    route[index1], route[index2] = route[index2], route[index1]"
   ]
  },
  {
   "cell_type": "code",
   "execution_count": 8,
   "id": "3fa2c13a",
   "metadata": {},
   "outputs": [],
   "source": [
    "# Genetic Algorithm to solve TSP \n",
    "def genetic_algorithm(num_generations, population_size, distances): \n",
    "    num_cities = len(distances) \n",
    "    population = create_initial_population(population_size, num_cities) \n",
    "    for generation in range(num_generations): \n",
    "        population = sorted(population, key=lambda x: calculate_total_distance(x, distances)) \n",
    "        parents = population[:2] # Select the top 2 individuals as parents \n",
    "        offspring = [crossover(parents[0], parents[1]) for _ in range(population_size - 2)] \n",
    "        population = parents + offspring \n",
    "        for route in population: \n",
    "            if random.random() < mutation_rate: \n",
    "                mutate(route) \n",
    "        best_route = min(population, key=lambda x: calculate_total_distance(x, distances)) \n",
    "        return best_route"
   ]
  },
  {
   "cell_type": "code",
   "execution_count": 12,
   "id": "84820adc",
   "metadata": {},
   "outputs": [
    {
     "name": "stdout",
     "output_type": "stream",
     "text": [
      "Best Route: [1, 3, 2, 0]\n",
      "Total Distance: 15.26882723033592\n"
     ]
    }
   ],
   "source": [
    "# Example usage \n",
    "if __name__ == \"__main__\":\n",
    "    # Example distances between cities (Euclidean distances) \n",
    "    cities = { \n",
    "        0: (0, 0), \n",
    "        1: (1, 3), \n",
    "        2: (4, 2), \n",
    "        3: (5, 5) \n",
    "    }\n",
    "    num_cities = len(cities) \n",
    "    distances = [[0] * num_cities for _ in range(num_cities)] \n",
    "    for i in range(num_cities): \n",
    "        for j in range(i, num_cities): \n",
    "            dist = math.sqrt((c\n",
    "                              ities[i][0] - cities[j][0])**2 + (cities[i][1] - cities[j][1])**2) \n",
    "            distances[i][j] = distances[j][i] = dist \n",
    "            \n",
    "    num_generations = 1000\n",
    "    population_size = 50 \n",
    "    mutation_rate = 0.1 \n",
    "    \n",
    "    best_route = genetic_algorithm(num_generations, population_size, distances) \n",
    "    print(\"Best Route:\", best_route) \n",
    "    print(\"Total Distance:\", calculate_total_distance(best_route, distances))"
   ]
  },
  {
   "cell_type": "code",
   "execution_count": null,
   "id": "404dd657",
   "metadata": {},
   "outputs": [],
   "source": []
  }
 ],
 "metadata": {
  "kernelspec": {
   "display_name": "Python 3 (ipykernel)",
   "language": "python",
   "name": "python3"
  },
  "language_info": {
   "codemirror_mode": {
    "name": "ipython",
    "version": 3
   },
   "file_extension": ".py",
   "mimetype": "text/x-python",
   "name": "python",
   "nbconvert_exporter": "python",
   "pygments_lexer": "ipython3",
   "version": "3.10.9"
  }
 },
 "nbformat": 4,
 "nbformat_minor": 5
}
